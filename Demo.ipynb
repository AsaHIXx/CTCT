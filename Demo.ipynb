{
 "cells": [
  {
   "cell_type": "markdown",
   "id": "da45d793-ed88-4c65-867a-250bd97e8a64",
   "metadata": {
    "tags": []
   },
   "source": [
    "### install the requirements"
   ]
  },
  {
   "cell_type": "code",
   "execution_count": null,
   "id": "a5625709-9652-45e1-b8a0-db18a2e81284",
   "metadata": {},
   "outputs": [],
   "source": [
    "! pip install -r ./requirements.txt"
   ]
  },
  {
   "cell_type": "markdown",
   "id": "c950e864-1e00-41ce-9a4f-eea2ab03028a",
   "metadata": {},
   "source": [
    "### start prediction by pretrained model,"
   ]
  },
  {
   "cell_type": "markdown",
   "id": "b484930b-3539-422c-a927-e18007a1cc13",
   "metadata": {},
   "source": [
    "- the detail prediction result see in **./val_result**\n",
    "- all the data used in this demo can be found in **./data_examples**.  models in **./pretrained_model** "
   ]
  },
  {
   "cell_type": "markdown",
   "id": "3c0b6b8e-2409-4099-8403-b8b04e4fa002",
   "metadata": {},
   "source": [
    "### prediction for 306 BRCA samples in Nature 2022(Diamantopoulou Z, et al. The metastatic spread of breast cancer accelerates during sleep. Nature(2022))"
   ]
  },
  {
   "cell_type": "code",
   "execution_count": 23,
   "id": "30fd36e9-3e84-4a08-9369-a2a08d53760f",
   "metadata": {},
   "outputs": [
    {
     "name": "stdout",
     "output_type": "stream",
     "text": [
      "path already exists！！！\n",
      "data_examples/nature_306_ref_label.txt read in data shape is  (306,)\n",
      "######################################################\n",
      "\n",
      "data_examples/nature_306_brca_logtpm.csv  total acc: 0.9705882352941176\n",
      "Done! Time consume is: 0:00:00.940213\n"
     ]
    }
   ],
   "source": [
    "! python ctc_inductive_prediction.py -i data_examples/nature_306_brca_logtpm.csv \\\n",
    "-r data_examples/nature_306_ref_label.txt "
   ]
  },
  {
   "cell_type": "markdown",
   "id": "ffedfce3-7bea-4877-9329-fd36269341c3",
   "metadata": {},
   "source": [
    "### prediction with binary classifier which can indicate CTCs from blood cells"
   ]
  },
  {
   "cell_type": "code",
   "execution_count": 22,
   "id": "0db66c7a-75c7-4353-a6e2-ceb4da677ee4",
   "metadata": {},
   "outputs": [
    {
     "name": "stdout",
     "output_type": "stream",
     "text": [
      "./val_result/2022_08_25_22_38/ make success!!\n",
      "total number of tumor cells is: 306\n",
      "Done! Time consume is: 0:00:00.935301\n"
     ]
    }
   ],
   "source": [
    "! python ctc_inductive_prediction.py -i data_examples/nature_306_brca_logtpm.csv \\\n",
    "-m pretrained_model/Tumor_Blood_binary_classifier.pth -c 2 -t data_examples/tumor_blood_label_ident.txt"
   ]
  },
  {
   "cell_type": "markdown",
   "id": "d2ad1599-1688-4449-9237-87fed4efa721",
   "metadata": {},
   "source": [
    "### prediction for 372 CTCS samples involved in this study"
   ]
  },
  {
   "cell_type": "code",
   "execution_count": 24,
   "id": "6a0402da-cdaf-47f8-aff9-c491b482eaf7",
   "metadata": {},
   "outputs": [
    {
     "name": "stdout",
     "output_type": "stream",
     "text": [
      "./val_result/2022_08_25_22_40/ make success!!\n",
      "data_examples/CTC_pub_train_372_exp.txt read in data shape is  (372, 18856)\n",
      "data_examples/CTC_public_372_train_serial.txt read in data shape is  (372,)\n",
      "######################################################\n",
      "\n",
      "data_examples/CTC_pub_train_372_exp.txt  total acc: 0.9865591397849462\n",
      "Done! Time consume is: 0:00:03.005797\n"
     ]
    }
   ],
   "source": [
    "! python ctc_inductive_prediction.py -i data_examples/CTC_pub_train_372_exp.txt \\\n",
    "-r data_examples/CTC_public_372_train_serial.txt"
   ]
  },
  {
   "cell_type": "markdown",
   "id": "41233e16-9df8-4ddd-8fc4-b68f3d35675a",
   "metadata": {},
   "source": [
    "### prediction for 377 CTCs extra test samples involved  in this study "
   ]
  },
  {
   "cell_type": "code",
   "execution_count": 25,
   "id": "4c247892-d752-4530-a4fd-5b91290aa6dc",
   "metadata": {},
   "outputs": [
    {
     "name": "stdout",
     "output_type": "stream",
     "text": [
      "./val_result/2022_08_25_22_43/ make success!!\n",
      "data_examples/CTC_pub_test_377_exp.txt read in data shape is  (377, 18856)\n",
      "data_examples/CTC_public_377_test_serial.txt read in data shape is  (377,)\n",
      "######################################################\n",
      "\n",
      "data_examples/CTC_pub_test_377_exp.txt  total acc: 0.8806366047745358\n",
      "Done! Time consume is: 0:00:03.043065\n"
     ]
    }
   ],
   "source": [
    "! python ctc_inductive_prediction.py -i data_examples/CTC_pub_test_377_exp.txt -m pretrained_model/Fine-tune_model_for_testset.pth \\\n",
    "-r data_examples/CTC_public_377_test_serial.txt"
   ]
  },
  {
   "cell_type": "code",
   "execution_count": null,
   "id": "d1b63c0b-1221-4533-8fbc-f277013094bf",
   "metadata": {},
   "outputs": [],
   "source": []
  }
 ],
 "metadata": {
  "kernelspec": {
   "display_name": "Python 3.9.12 ('base')",
   "language": "python",
   "name": "python3"
  },
  "language_info": {
   "codemirror_mode": {
    "name": "ipython",
    "version": 3
   },
   "file_extension": ".py",
   "mimetype": "text/x-python",
   "name": "python",
   "nbconvert_exporter": "python",
   "pygments_lexer": "ipython3",
   "version": "3.9.12"
  },
  "vscode": {
   "interpreter": {
    "hash": "f3a4fd117e3038cf01f200316e897ef56dcf67a5d875ad50ad7aadfd6f6d52e1"
   }
  }
 },
 "nbformat": 4,
 "nbformat_minor": 5
}
